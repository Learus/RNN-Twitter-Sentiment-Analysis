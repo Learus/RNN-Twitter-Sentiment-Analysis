{
  "nbformat": 4,
  "nbformat_minor": 0,
  "metadata": {
    "colab": {
      "name": "RNN_Sentiment",
      "provenance": [],
      "collapsed_sections": [
        "dl6LiGYKA9Cf",
        "NULyPO3PBJt1",
        "5nriVMbrj-Ns",
        "bZpc9RnlmNRg",
        "jlDkwqarmqRv",
        "Uckc4XYHTQdd",
        "7e0Djm-5lqDp",
        "Lh8IkLOgTjDR",
        "Kb8djOX3TmHS",
        "LNyea_VNqzqm",
        "_mmanpR6bkoQ",
        "DZ4gFDPjbnpW",
        "CWkgINhNnIPf",
        "UWbJPuZk2XAk",
        "_Mj2QNzykJTF",
        "VGeNE1zlqx8X",
        "7pLtRZFXkfvT",
        "3_AtPHZ-nFhz",
        "gkevj4e0l9Qh",
        "ykQjUYMcl9Qi",
        "kMWWGtDSl9Qj",
        "K-skiwaxPt_y"
      ],
      "toc_visible": true
    },
    "kernelspec": {
      "name": "python3",
      "display_name": "Python 3"
    },
    "accelerator": "GPU"
  },
  "cells": [
    {
      "cell_type": "markdown",
      "metadata": {
        "id": "OrhOLuaBAWDj"
      },
      "source": [
        "# Twitter Sentiment Analyzer using Recurrent Neural Networks\r\n",
        "\r\n",
        "Ioannis Maliaras - 1115021500084  \r\n",
        "31-12-2020"
      ]
    },
    {
      "cell_type": "markdown",
      "metadata": {
        "id": "S0EkBPPjAir_"
      },
      "source": [
        "**Note: The first part of this notebook, a.k.a. the data cleaning, stemming and lemmatization is directly copied from the first assignment's notebook. The dataset is the same, therefore we use the same data cleaning techniques, since they proved good enough**"
      ]
    },
    {
      "cell_type": "markdown",
      "metadata": {
        "id": "dl6LiGYKA9Cf"
      },
      "source": [
        "## Startup - Imports - Dataset"
      ]
    },
    {
      "cell_type": "markdown",
      "metadata": {
        "id": "yC8UMFsiAxOD"
      },
      "source": [
        "Let's import all our base dependencies and read the dataset file. We will import all other dependencies in their respective blocks."
      ]
    },
    {
      "cell_type": "code",
      "metadata": {
        "id": "4eVOabDFAUwn",
        "colab": {
          "base_uri": "https://localhost:8080/"
        },
        "outputId": "73d9bf65-6661-44d7-8fdd-28ead6c096df"
      },
      "source": [
        "!pip install PyDrive texttable nltk\r\n",
        "!pip install torchtext\r\n",
        "# !pip install torch===1.7.0 torchvision===0.8.1 torchaudio===0.7.0 -f https://download.pytorch.org/whl/torch_stable.html\r\n",
        "\r\n",
        "import numpy as np\r\n",
        "import pandas as pd\r\n",
        "import math\r\n",
        "import torch\r\n",
        "import scipy\r\n",
        "import nltk\r\n",
        "nltk.download(\"stopwords\")\r\n",
        "nltk.download('punkt')\r\n",
        "nltk.download('wordnet')\r\n",
        "\r\n",
        "import matplotlib.pyplot as plt\r\n",
        "import matplotlib as mpl\r\n",
        "\r\n",
        "from sklearn.feature_extraction.text import TfidfVectorizer\r\n",
        "from sklearn.preprocessing import LabelEncoder\r\n",
        "from sklearn.model_selection import train_test_split\r\n",
        "\r\n",
        "\r\n",
        "from torch import LongTensor, FloatTensor\r\n",
        "from torch.utils.data import DataLoader\r\n",
        "from torch import nn\r\n",
        "from torch import optim\r\n",
        "import torch.nn.functional as F\r\n",
        "\r\n",
        "from pydrive.auth import GoogleAuth\r\n",
        "from pydrive.drive import GoogleDrive\r\n",
        "from google.colab import auth\r\n",
        "from oauth2client.client import GoogleCredentials\r\n",
        "\r\n",
        "auth.authenticate_user()\r\n",
        "gauth = GoogleAuth()\r\n",
        "gauth.credentials = GoogleCredentials.get_application_default()\r\n",
        "drive = GoogleDrive(gauth)"
      ],
      "execution_count": 146,
      "outputs": [
        {
          "output_type": "stream",
          "text": [
            "Requirement already satisfied: PyDrive in /usr/local/lib/python3.6/dist-packages (1.3.1)\n",
            "Requirement already satisfied: texttable in /usr/local/lib/python3.6/dist-packages (1.6.3)\n",
            "Requirement already satisfied: nltk in /usr/local/lib/python3.6/dist-packages (3.2.5)\n",
            "Requirement already satisfied: google-api-python-client>=1.2 in /usr/local/lib/python3.6/dist-packages (from PyDrive) (1.7.12)\n",
            "Requirement already satisfied: PyYAML>=3.0 in /usr/local/lib/python3.6/dist-packages (from PyDrive) (3.13)\n",
            "Requirement already satisfied: oauth2client>=4.0.0 in /usr/local/lib/python3.6/dist-packages (from PyDrive) (4.1.3)\n",
            "Requirement already satisfied: six in /usr/local/lib/python3.6/dist-packages (from nltk) (1.15.0)\n",
            "Requirement already satisfied: httplib2<1dev,>=0.17.0 in /usr/local/lib/python3.6/dist-packages (from google-api-python-client>=1.2->PyDrive) (0.17.4)\n",
            "Requirement already satisfied: google-auth>=1.4.1 in /usr/local/lib/python3.6/dist-packages (from google-api-python-client>=1.2->PyDrive) (1.17.2)\n",
            "Requirement already satisfied: google-auth-httplib2>=0.0.3 in /usr/local/lib/python3.6/dist-packages (from google-api-python-client>=1.2->PyDrive) (0.0.4)\n",
            "Requirement already satisfied: uritemplate<4dev,>=3.0.0 in /usr/local/lib/python3.6/dist-packages (from google-api-python-client>=1.2->PyDrive) (3.0.1)\n",
            "Requirement already satisfied: rsa>=3.1.4 in /usr/local/lib/python3.6/dist-packages (from oauth2client>=4.0.0->PyDrive) (4.6)\n",
            "Requirement already satisfied: pyasn1-modules>=0.0.5 in /usr/local/lib/python3.6/dist-packages (from oauth2client>=4.0.0->PyDrive) (0.2.8)\n",
            "Requirement already satisfied: pyasn1>=0.1.7 in /usr/local/lib/python3.6/dist-packages (from oauth2client>=4.0.0->PyDrive) (0.4.8)\n",
            "Requirement already satisfied: setuptools>=40.3.0 in /usr/local/lib/python3.6/dist-packages (from google-auth>=1.4.1->google-api-python-client>=1.2->PyDrive) (51.0.0)\n",
            "Requirement already satisfied: cachetools<5.0,>=2.0.0 in /usr/local/lib/python3.6/dist-packages (from google-auth>=1.4.1->google-api-python-client>=1.2->PyDrive) (4.2.0)\n",
            "Requirement already satisfied: torchtext in /usr/local/lib/python3.6/dist-packages (0.3.1)\n",
            "Requirement already satisfied: requests in /usr/local/lib/python3.6/dist-packages (from torchtext) (2.23.0)\n",
            "Requirement already satisfied: numpy in /usr/local/lib/python3.6/dist-packages (from torchtext) (1.19.4)\n",
            "Requirement already satisfied: tqdm in /usr/local/lib/python3.6/dist-packages (from torchtext) (4.41.1)\n",
            "Requirement already satisfied: torch in /usr/local/lib/python3.6/dist-packages (from torchtext) (1.7.0+cu101)\n",
            "Requirement already satisfied: chardet<4,>=3.0.2 in /usr/local/lib/python3.6/dist-packages (from requests->torchtext) (3.0.4)\n",
            "Requirement already satisfied: urllib3!=1.25.0,!=1.25.1,<1.26,>=1.21.1 in /usr/local/lib/python3.6/dist-packages (from requests->torchtext) (1.24.3)\n",
            "Requirement already satisfied: certifi>=2017.4.17 in /usr/local/lib/python3.6/dist-packages (from requests->torchtext) (2020.12.5)\n",
            "Requirement already satisfied: idna<3,>=2.5 in /usr/local/lib/python3.6/dist-packages (from requests->torchtext) (2.10)\n",
            "Requirement already satisfied: typing-extensions in /usr/local/lib/python3.6/dist-packages (from torch->torchtext) (3.7.4.3)\n",
            "Requirement already satisfied: future in /usr/local/lib/python3.6/dist-packages (from torch->torchtext) (0.16.0)\n",
            "Requirement already satisfied: dataclasses in /usr/local/lib/python3.6/dist-packages (from torch->torchtext) (0.8)\n",
            "[nltk_data] Downloading package stopwords to /root/nltk_data...\n",
            "[nltk_data]   Package stopwords is already up-to-date!\n",
            "[nltk_data] Downloading package punkt to /root/nltk_data...\n",
            "[nltk_data]   Package punkt is already up-to-date!\n",
            "[nltk_data] Downloading package wordnet to /root/nltk_data...\n",
            "[nltk_data]   Package wordnet is already up-to-date!\n"
          ],
          "name": "stdout"
        }
      ]
    },
    {
      "cell_type": "code",
      "metadata": {
        "id": "3VxDYKYRA0mF"
      },
      "source": [
        "file = drive.CreateFile({'id': \"1dTIWNpjlrnTQBIQtaGOh0jCRYZiAQO79\"})\r\n",
        "file.GetContentFile('SentimentTweets.csv')\r\n",
        "documents = pd.read_csv('SentimentTweets.csv')"
      ],
      "execution_count": 147,
      "outputs": []
    },
    {
      "cell_type": "markdown",
      "metadata": {
        "id": "-NXZ8t-vA3bl"
      },
      "source": [
        "Firstly, let's explain some things about the given dataset. This dataset contains a large amount of tweets and their sentiments. Any other information (attributes) do not matter for us. We only care about the actual text, and the target sentiment. We will create new features on our own derived from the text (using Tfidf Vectorization as you will see below)."
      ]
    },
    {
      "cell_type": "code",
      "metadata": {
        "id": "h_lgSeLTA4fP"
      },
      "source": [
        "attributes = ['text', 'target']\r\n",
        "documents = documents[attributes]"
      ],
      "execution_count": 148,
      "outputs": []
    },
    {
      "cell_type": "markdown",
      "metadata": {
        "id": "E6TqrU4IA5-D"
      },
      "source": [
        "Moreover, it is important to note that the values in the 'target' column that represent the sentiment are of type [0, 4] where 0 represents the negative sentiment and 4 the positive. There is no in-between neutral value (e.g. 2), as there might be in other datasets. This Sentiment Analyzer only predicts negative or positive sentiment."
      ]
    },
    {
      "cell_type": "markdown",
      "metadata": {
        "id": "NULyPO3PBJt1"
      },
      "source": [
        "## Data Cleanup"
      ]
    },
    {
      "cell_type": "markdown",
      "metadata": {
        "id": "Gqfpe7C9BK8B"
      },
      "source": [
        "Let's continue with cleaning up the text data. We are going to:\r\n",
        "1. Make the text lowercase  \r\n",
        "> We find that there is no reason to keep any capitalization on the data. One could make the argument, that words with fully capital letters could make a difference to the sentiment interpretation of a sentence or text, but that fully uppercase word could be positive or negative regardless of the capitalization. Therefore, we make the whole text lowercase.\r\n",
        "2. Remove any URLs, @user and # references\r\n",
        "> Pretty straightforward, such words have no value to us in sentiment analysis.\r\n",
        "4. Remove all punctuation\r\n",
        "> As with uppercase text, one could make the argument that puncuation could have some meaning in a given text. But there is no value to that, if we can't know whether they are used in a positive or negative manner. For example, an exclamation point (!) could be used in either sentences, that have opposite sentiments:\r\n",
        "> * This movie was awesome!\r\n",
        "> * That restaurant was terrible!\r\n",
        "5. Remove stopwords\r\n",
        "6. Stem or Lemmatize\r\n",
        "> Steps 5 and 6 are well-known successful techniques to clean up data."
      ]
    },
    {
      "cell_type": "markdown",
      "metadata": {
        "id": "e67pjGKMBM1k"
      },
      "source": [
        "Let's define that function."
      ]
    },
    {
      "cell_type": "code",
      "metadata": {
        "id": "_RN0cpq7BOCN"
      },
      "source": [
        "from nltk.tokenize import word_tokenize\r\n",
        "from nltk.stem import PorterStemmer\r\n",
        "from nltk.stem import WordNetLemmatizer\r\n",
        "from nltk.corpus import stopwords\r\n",
        "import re\r\n",
        "import string\r\n",
        "\r\n",
        "stop_words = set(stopwords.words('english'))\r\n",
        "lemmatizer = WordNetLemmatizer()\r\n",
        "stemming = PorterStemmer()\r\n",
        "\r\n",
        "def preprocess_tweet(text):\r\n",
        "    text = text.lower()\r\n",
        "\r\n",
        "    # Remove URLs\r\n",
        "    text = re.sub(r\"http\\S+|www\\S+|https\\S+\", '', text, flags=re.MULTILINE)\r\n",
        "\r\n",
        "    # Remove user @ references and '#' from tweet\r\n",
        "    text = re.sub(r'\\@\\w+|\\#','', text)\r\n",
        "\r\n",
        "    # Remove punctuation\r\n",
        "    text = text.translate(str.maketrans('', '', string.punctuation))\r\n",
        "\r\n",
        "    # Remove Stop Words\r\n",
        "    tokenized = word_tokenize(text)\r\n",
        "    stopped = [word for word in tokenized if not word in stop_words]\r\n",
        "\r\n",
        "    # clean = [stemming.stem(word) for word in tokenized]\r\n",
        "    clean = [lemmatizer.lemmatize(word, pos='a') for word in stopped]\r\n",
        "\r\n",
        "    return \" \".join(clean)\r\n"
      ],
      "execution_count": 149,
      "outputs": []
    },
    {
      "cell_type": "markdown",
      "metadata": {
        "id": "5-MR2zCsBPxp"
      },
      "source": [
        "Now this procedure will take a long time, considering the size of the dataset. In this particular assignment we have more than 1 million tweets. Therefore, we save the processed data in a file, and load them each time we want to reset our runtime.\r\n",
        "Depending on whether the file exists, we run the preprocessing function or read form the file to get our final processed and clean data."
      ]
    },
    {
      "cell_type": "code",
      "metadata": {
        "id": "QewsFQc1BRFd"
      },
      "source": [
        "PROCESSED_FILENAME = 'processed_tweets.csv'\r\n",
        "FINAL_FILENAME = 'final_tweets.csv'\r\n",
        "\r\n",
        "from os import path\r\n",
        "\r\n",
        "if (path.exists(PROCESSED_FILENAME)):\r\n",
        "    tmp = pd.read_csv(PROCESSED_FILENAME, sep=',')\r\n",
        "    documents['clean'] = tmp['clean']\r\n",
        "else:\r\n",
        "    documents['clean'] = documents['text'].apply(preprocess_tweet)\r\n",
        "    # Save the data\r\n",
        "    documents['clean'].to_csv(PROCESSED_FILENAME, sep=',')\r\n",
        "\r\n",
        "\r\n",
        "documents.to_csv(FINAL_FILENAME, sep=',')"
      ],
      "execution_count": 150,
      "outputs": []
    },
    {
      "cell_type": "markdown",
      "metadata": {
        "id": "5nriVMbrj-Ns"
      },
      "source": [
        "## Data Loading and Vocabulary\r\n",
        "\r\n",
        "We will use `torchtext` to create and \"serve\" the dataset to our models. `torchtext` provides us with handy functions to do that. However, we will have to split our dataset to train, test and validation data beforehand and write them to specific files.\r\n",
        "\r\n",
        "We create a `split_files` function that takes our initial processed dataframe, and splits it into files given a length. The length defines how long our dataset will be. This is helpful, because our dataset is too big to be of any convenience for testing and debugging."
      ]
    },
    {
      "cell_type": "code",
      "metadata": {
        "id": "6NmNKm0V6QK4"
      },
      "source": [
        "from torchtext import data\r\n",
        "\r\n",
        "TRAIN_FILENAME = 'train'\r\n",
        "VALID_FILENAME = 'valid'\r\n",
        "TEST_FILENAME = 'test'\r\n",
        "\r\n",
        "def split_files(docs, length, test_size=0.1, valid_size=0.1):\r\n",
        "    data = docs[:length]\r\n",
        "\r\n",
        "    train_data, test_data = train_test_split(data, test_size=test_size, random_state=41, stratify=data['target'])\r\n",
        "    train_data, valid_data = train_test_split(train_data, test_size=valid_size, random_state=42, stratify=train_data['target'])\r\n",
        "\r\n",
        "    train_data.to_csv(f'{TRAIN_FILENAME}x{length}.csv', sep=',')\r\n",
        "    valid_data.to_csv(f'{VALID_FILENAME}x{length}.csv', sep=',')\r\n",
        "    test_data.to_csv(f'{TEST_FILENAME}x{length}.csv')\r\n"
      ],
      "execution_count": 151,
      "outputs": []
    },
    {
      "cell_type": "markdown",
      "metadata": {
        "id": "GUjbBqy37qfN"
      },
      "source": [
        "Naturally, we will also create the `load_files` function that loads files if they exist, given a specific length. We will also be removing empty lines using the `filter_pred` parameter."
      ]
    },
    {
      "cell_type": "code",
      "metadata": {
        "id": "9zRzFGMO8LSL"
      },
      "source": [
        "def load_files(length, fields):\r\n",
        "    return data.TabularDataset.splits(\r\n",
        "        path = '',\r\n",
        "        train=f'{TRAIN_FILENAME}x{length}.csv',\r\n",
        "        validation=f'{VALID_FILENAME}x{length}.csv',\r\n",
        "        test=f'{TEST_FILENAME}x{length}.csv',\r\n",
        "        format = 'csv',\r\n",
        "        fields = fields,\r\n",
        "        skip_header = True,\r\n",
        "        filter_pred=lambda x: x.clean[:] != []\r\n",
        "    )\r\n"
      ],
      "execution_count": 152,
      "outputs": []
    },
    {
      "cell_type": "markdown",
      "metadata": {
        "id": "jtjuB-WR9S-t"
      },
      "source": [
        "Time to load our data."
      ]
    },
    {
      "cell_type": "code",
      "metadata": {
        "id": "co9E5wuLYVsn"
      },
      "source": [
        "DATASET_LENGTH = -1\r\n",
        "\r\n",
        "TEXT = data.Field(tokenize = 'spacy', include_lengths=True)\r\n",
        "LABEL = data.LabelField(dtype = torch.float)\r\n",
        "fields = [(None, None), (None, None), ('target', LABEL), ('clean', TEXT)]\r\n",
        "\r\n",
        "split_files(documents, DATASET_LENGTH, test_size=0.05, valid_size=0.05)\r\n",
        "train_data, valid_data, test_data = load_files(DATASET_LENGTH, fields)"
      ],
      "execution_count": 153,
      "outputs": []
    },
    {
      "cell_type": "markdown",
      "metadata": {
        "id": "t3y7t61qjXod"
      },
      "source": [
        "We create the vocabulary using our text & pre trained word embeddings. For this experiment we will use the `torchtext` `glove.6B.100d` embeddings."
      ]
    },
    {
      "cell_type": "code",
      "metadata": {
        "id": "xFoIBpMuirbC"
      },
      "source": [
        "MAX_VOCAB_SIZE = 25_000\r\n",
        "TEXT.build_vocab(train_data,\r\n",
        "                 max_size = MAX_VOCAB_SIZE,\r\n",
        "                 vectors = 'glove.twitter.27B.50d',\r\n",
        "                 unk_init = torch.Tensor.normal_)\r\n",
        "LABEL.build_vocab(train_data)"
      ],
      "execution_count": 154,
      "outputs": []
    },
    {
      "cell_type": "markdown",
      "metadata": {
        "id": "Yy5qk8oPj6Ah"
      },
      "source": [
        "Similarly to the previous assignment, we will need to pass our dataset for training using batches. We did a custom implementation last time, but using `torchtext` makes things a lot easier. Moreover, we are now using a GPU runtime & cuda, since it provides us with classes of speedup for our experiments.\r\n",
        "\r\n",
        "We will use the `device` variable in many places."
      ]
    },
    {
      "cell_type": "code",
      "metadata": {
        "id": "2BhQaZ1mkkU3"
      },
      "source": [
        "device = torch.device('cuda' if torch.cuda.is_available() else 'cpu')\r\n",
        "BATCH_SIZE = 64\r\n",
        "\r\n",
        "train_iterator, valid_iterator, test_iterator = data.BucketIterator.splits(\r\n",
        "    (train_data, valid_data, test_data),\r\n",
        "    batch_size = BATCH_SIZE,\r\n",
        "    sort_within_batch = True,\r\n",
        "    sort_key=lambda x: len(x.clean),\r\n",
        "    device = device\r\n",
        ")"
      ],
      "execution_count": 155,
      "outputs": []
    },
    {
      "cell_type": "markdown",
      "metadata": {
        "id": "34zch-Rtk1tH"
      },
      "source": [
        "## Evaluation Mechanisms"
      ]
    },
    {
      "cell_type": "markdown",
      "metadata": {
        "id": "pMYeyi3Kk-Ge"
      },
      "source": [
        "We will define some basic classes and a consistent inheritable training, testing, scoring and plotting class. They will calculate training information, like elapsed time, learning curves, and also evaluation such as precision, accuracy, f1, recall and plot a ROC curve. It's also an easy way to generalize training, while simultaneously making our experiments a bit more concise and readable."
      ]
    },
    {
      "cell_type": "markdown",
      "metadata": {
        "id": "bZpc9RnlmNRg"
      },
      "source": [
        "#### Learning Analyzer\n",
        "\n",
        "This class will use return value of our `train` method for each of our models. It will take lists of losses per epoch for training and validation/test data and will provide methods to plot them in different ways."
      ]
    },
    {
      "cell_type": "code",
      "metadata": {
        "id": "x8NRLEDM9zt7"
      },
      "source": [
        "class LearningAnalyzer:\n",
        "    def __init__(self, train_loss, test_loss, epochs=50):\n",
        "        self.train_loss = train_loss\n",
        "        self.test_loss = test_loss\n",
        "        self.epochs = epochs\n",
        "\n",
        "    def training_loss(self, epochs=None):\n",
        "        if not epochs:\n",
        "            epochs = self.epochs\n",
        "        \n",
        "        plt.plot(range(epochs), self.train_loss, label=\"Training\")\n",
        "        plt.xlabel(\"Epochs\")\n",
        "        plt.ylabel(\"Loss\")\n",
        "        plt.title(\"Training Loss to Epochs\")\n",
        "        plt.legend()\n",
        "        plt.show()\n",
        "\n",
        "    def learning_curves(self, epochs=None):\n",
        "        if not epochs:\n",
        "            epochs = self.epochs\n",
        "        \n",
        "        plt.plot(range(epochs), self.train_loss, label=\"Training\")\n",
        "        plt.plot(range(epochs), self.test_loss, label=\"Validation\")\n",
        "        plt.xlabel(\"Epochs\")\n",
        "        plt.ylabel(\"Loss\")\n",
        "        plt.title(\"Learning Curves\")\n",
        "        plt.legend()\n",
        "        plt.show()\n"
      ],
      "execution_count": 156,
      "outputs": []
    },
    {
      "cell_type": "markdown",
      "metadata": {
        "id": "jlDkwqarmqRv"
      },
      "source": [
        "#### ScoreKeeper\n",
        "\n",
        "This class will be the return value of our `evaluate` method if parameterized. It will get the predicted (y_pred) and real (y) values of our test and calculate scores. Then it will provide methods for calculating metrics and plotting scores, roc curves and the such."
      ]
    },
    {
      "cell_type": "code",
      "metadata": {
        "id": "KcwrBFnyvzzE"
      },
      "source": [
        "from sklearn.metrics import accuracy_score, precision_score, recall_score, f1_score, roc_curve\n",
        "from sklearn.metrics import classification_report\n",
        "\n",
        "class ScoreKeeper:\n",
        "    def __init__(self, predicted, real, rounded):\n",
        "        self.real = real\n",
        "        self.predicted = predicted\n",
        "        self.rounded = rounded\n",
        "\n",
        "    def report(self):\n",
        "        print(classification_report(self.real, self.rounded))\n",
        "\n",
        "    def f1(self):\n",
        "        return f1_score(real, rounded)\n",
        "    \n",
        "    def precision(self):\n",
        "        return precision_score(real, rounded)\n",
        "\n",
        "    def recall(self):\n",
        "        return recall_score(real, rounded)\n",
        "\n",
        "    def accuracy(self):\n",
        "        return accuracy_score(real, rounded)\n",
        "\n",
        "    def roc(self):\n",
        "        return roc_curve(self.real, self.predicted)\n",
        "\n",
        "    def plot_roc(self):\n",
        "        fpr, tpr, thresholds = roc_curve(self.real, self.predicted)\n",
        "\n",
        "        plt.plot(fpr, tpr, label='ROC')\n",
        "\n",
        "        plt.xlabel(\"False Positive Rate\")\n",
        "        plt.ylabel(\"True Positive Rate\")\n",
        "        plt.title(\"Roc Curve\")\n",
        "        plt.legend()\n",
        "        plt.show()"
      ],
      "execution_count": 157,
      "outputs": []
    },
    {
      "cell_type": "markdown",
      "metadata": {
        "id": "02F9bxvTnMk1"
      },
      "source": [
        "For testing purposes, we copy the below 3 functions from various RNN projects (see Citations), which calculate model accuracy, as well as time taken for each epoch of training."
      ]
    },
    {
      "cell_type": "markdown",
      "metadata": {
        "id": "Uckc4XYHTQdd"
      },
      "source": [
        "### Miscellaneous"
      ]
    },
    {
      "cell_type": "code",
      "metadata": {
        "id": "9Bfk4WE3mMdy"
      },
      "source": [
        "def count_parameters(model):\r\n",
        "    params = sum(p.numel() for p in model.parameters() if p.requires_grad)\r\n",
        "    print(f'The model has {params:,} trainable parameters')\r\n",
        "    return params"
      ],
      "execution_count": 158,
      "outputs": []
    },
    {
      "cell_type": "code",
      "metadata": {
        "id": "4aOpmErQnZpC"
      },
      "source": [
        "def binary_accuracy(preds, y):\r\n",
        "    rounded_preds = torch.round(torch.sigmoid(preds))\r\n",
        "    correct = (rounded_preds == y).float()\r\n",
        "\r\n",
        "    acc = correct.sum() / len(correct)\r\n",
        "    return acc"
      ],
      "execution_count": 159,
      "outputs": []
    },
    {
      "cell_type": "code",
      "metadata": {
        "id": "mWrSvMN5osWy"
      },
      "source": [
        "import time\r\n",
        "\r\n",
        "def epoch_time(start_time, end_time):\r\n",
        "    elapsed_time = end_time - start_time\r\n",
        "    elapsed_mins = int(elapsed_time / 60)\r\n",
        "    elapsed_secs = int(elapsed_time - (elapsed_mins * 60))\r\n",
        "    \r\n",
        "    return elapsed_mins, elapsed_secs"
      ],
      "execution_count": 160,
      "outputs": []
    },
    {
      "cell_type": "markdown",
      "metadata": {
        "id": "_jUxnWDmFKvz"
      },
      "source": [
        "## Our Models"
      ]
    },
    {
      "cell_type": "markdown",
      "metadata": {
        "id": "7e0Djm-5lqDp"
      },
      "source": [
        "### Base Testing Class"
      ]
    },
    {
      "cell_type": "markdown",
      "metadata": {
        "id": "aDhwEs4cfcLH"
      },
      "source": [
        "We will create a simplte training & testing class that trains a evaluates a model returning learning analysis and scores if asked."
      ]
    },
    {
      "cell_type": "code",
      "metadata": {
        "id": "NCtB6IUtnFU7"
      },
      "source": [
        "class TestRNN():\r\n",
        "    def __init__(self, model, device):\r\n",
        "\r\n",
        "        self.model = model.to(device)\r\n",
        "\r\n",
        "        self.criterion = nn.BCEWithLogitsLoss().to(device)\r\n",
        "        self.optimizer = optim.Adam(self.model.parameters())\r\n",
        "\r\n",
        "    def train(self, iterator):\r\n",
        "        epoch_loss = 0\r\n",
        "        epoch_acc = 0\r\n",
        "\r\n",
        "        self.model.train()\r\n",
        "\r\n",
        "        for batch in iterator:\r\n",
        "            self.optimizer.zero_grad()\r\n",
        "\r\n",
        "            text, text_lengths = batch.clean\r\n",
        "\r\n",
        "            preds = self.model(text, text_lengths).squeeze(1)\r\n",
        "            loss = self.criterion(preds, batch.target)\r\n",
        "\r\n",
        "            acc = binary_accuracy(preds, batch.target)\r\n",
        "\r\n",
        "            loss.backward()\r\n",
        "            self.optimizer.step()\r\n",
        "\r\n",
        "            epoch_loss += loss.item()\r\n",
        "            epoch_acc += acc.item()\r\n",
        "\r\n",
        "\r\n",
        "        return epoch_loss / len(iterator), epoch_acc / len(iterator)\r\n",
        "\r\n",
        "    def evaluate(self, iterator, plot = False):\r\n",
        "        epoch_loss = 0\r\n",
        "        epoch_acc = 0\r\n",
        "\r\n",
        "        self.model.eval()\r\n",
        "\r\n",
        "        if plot:\r\n",
        "            real = []\r\n",
        "            predictions = []\r\n",
        "            rounded_predictions = []\r\n",
        "\r\n",
        "        with torch.no_grad():\r\n",
        "\r\n",
        "            for batch in iterator:\r\n",
        "\r\n",
        "                text, text_lengths = batch.clean\r\n",
        "\r\n",
        "                preds = self.model(text, text_lengths).squeeze(1)\r\n",
        "\r\n",
        "                loss = self.criterion(preds, batch.target)\r\n",
        "                acc = binary_accuracy(preds, batch.target)\r\n",
        "\r\n",
        "                epoch_loss += loss.item()\r\n",
        "                epoch_acc += acc.item()\r\n",
        "\r\n",
        "                if plot:\r\n",
        "                    real += batch.target.tolist()\r\n",
        "                    predictions += torch.sigmoid(preds).tolist()\r\n",
        "                    rounded_predictions += torch.round(torch.sigmoid(preds)).tolist()\r\n",
        "\r\n",
        "        if plot:\r\n",
        "            return epoch_loss / len(iterator), epoch_acc / len(iterator), ScoreKeeper(predictions, real, rounded_predictions)\r\n",
        "\r\n",
        "        return epoch_loss / len(iterator), epoch_acc / len(iterator)"
      ],
      "execution_count": 44,
      "outputs": []
    },
    {
      "cell_type": "markdown",
      "metadata": {
        "id": "Hv-M1aG3iRfj"
      },
      "source": [
        "### First Try (LSTM)"
      ]
    },
    {
      "cell_type": "markdown",
      "metadata": {
        "id": "d7Dj1ykriB5n"
      },
      "source": [
        "Now let's create our first RNN. This is heavily inspired by the RNNs shown in projects cited. It contains an Embedding Layer, inside which we will copy our pretrained embeddings. Next, is a single LSTM module and a Dropout Module."
      ]
    },
    {
      "cell_type": "code",
      "metadata": {
        "id": "OZAc87Z6k_rV"
      },
      "source": [
        "import torch.nn as nn\r\n",
        "\r\n",
        "class RNN(nn.Module):\r\n",
        "    def __init__(self, vocab_size, embedding_dim, hidden_dim, output_dim, num_layers, bidirectional, dropout, pad_idx):\r\n",
        "\r\n",
        "        super().__init__()\r\n",
        "\r\n",
        "        self.embedding = nn.Embedding(vocab_size, embedding_dim, padding_idx = pad_idx)\r\n",
        "        self.rnn = nn.LSTM(embedding_dim, hidden_dim, num_layers=num_layers, bidirectional=bidirectional, dropout=dropout)\r\n",
        "        self.fc = nn.Linear(hidden_dim * 2, output_dim)\r\n",
        "        self.dropout = nn.Dropout(dropout)\r\n",
        "\r\n",
        "    def forward(self, text, text_lengths):\r\n",
        "        embedded = self.embedding(text)\r\n",
        "        embedded = self.dropout(embedded)\r\n",
        "\r\n",
        "        packed = nn.utils.rnn.pack_padded_sequence(embedded, text_lengths.cpu())\r\n",
        "        packed_output, (hidden, cell) = self.rnn(packed)\r\n",
        "\r\n",
        "        output, output_lengths = nn.utils.rnn.pad_packed_sequence(packed_output)\r\n",
        "\r\n",
        "        hidden = self.dropout(torch.cat((hidden[-2, :, :], hidden[-1, :, :]), dim=1 ))\r\n",
        "\r\n",
        "        return self.fc(hidden)\r\n"
      ],
      "execution_count": null,
      "outputs": []
    },
    {
      "cell_type": "markdown",
      "metadata": {
        "id": "Lh8IkLOgTjDR"
      },
      "source": [
        "#### Parameterization"
      ]
    },
    {
      "cell_type": "markdown",
      "metadata": {
        "id": "6saDJ9IBlyF_"
      },
      "source": [
        "Now, after implementing the class we shall create an instance of it and specify its parameters. These parameters are the basis of our experiments, since we will be tweaking them a lot to reach to the best model that we can."
      ]
    },
    {
      "cell_type": "code",
      "metadata": {
        "id": "v9kwj6tQmICX"
      },
      "source": [
        "EPOCHS = 10\r\n",
        "INPUT_DIM = len(TEXT.vocab)\r\n",
        "EMBEDDING_DIM = 50 # This is the glove embeddings we have donwloaded\r\n",
        "HIDDEN_DIM = 512\r\n",
        "OUTPUT_DIM = 1\r\n",
        "N_LAYERS = 2\r\n",
        "BIDIRECTIONAL = True\r\n",
        "LEARNING_RATE = 1e-5\r\n",
        "DROPOUT = 0.8\r\n",
        "PAD_IDX = TEXT.vocab.stoi[TEXT.pad_token]\r\n",
        "\r\n",
        "model = RNN(INPUT_DIM, \r\n",
        "            EMBEDDING_DIM, \r\n",
        "            HIDDEN_DIM, \r\n",
        "            OUTPUT_DIM, \r\n",
        "            N_LAYERS, \r\n",
        "            BIDIRECTIONAL, \r\n",
        "            DROPOUT, \r\n",
        "            PAD_IDX)"
      ],
      "execution_count": null,
      "outputs": []
    },
    {
      "cell_type": "markdown",
      "metadata": {
        "id": "a8wAVerHmHoV"
      },
      "source": [
        "The final step is to copy (replace) our pre-trained embeddings into our model embedding layer, and also initialize the pad and unk tokens to zero, since they seem to be initialized as a random number."
      ]
    },
    {
      "cell_type": "code",
      "metadata": {
        "colab": {
          "base_uri": "https://localhost:8080/"
        },
        "id": "KOa4q0otmhGJ",
        "outputId": "8b004589-7f7b-483e-d5b4-004d26cc8caa"
      },
      "source": [
        "pretrained_embeddings = TEXT.vocab.vectors\r\n",
        "model.embedding.weight.data.copy_(pretrained_embeddings)"
      ],
      "execution_count": null,
      "outputs": [
        {
          "output_type": "execute_result",
          "data": {
            "text/plain": [
              "tensor([[-0.2413,  0.6175,  0.7313,  ...,  1.6931,  1.2796,  0.2829],\n",
              "        [-0.3410,  1.4481,  0.3564,  ..., -0.5393,  1.0276, -0.1161],\n",
              "        [ 0.0583,  1.3067,  0.0071,  ..., -0.4188,  0.4549, -0.5082],\n",
              "        ...,\n",
              "        [ 0.4156,  0.0547, -0.7844,  ...,  0.6150,  0.0126, -0.3223],\n",
              "        [-1.4078,  0.1634, -0.3136,  ...,  0.1820, -1.2061,  0.1299],\n",
              "        [-0.9243, -0.2683,  0.6521,  ...,  0.3083, -0.1077, -0.2120]])"
            ]
          },
          "metadata": {
            "tags": []
          },
          "execution_count": 81
        }
      ]
    },
    {
      "cell_type": "code",
      "metadata": {
        "id": "SKaZjv1vmxmj"
      },
      "source": [
        "UNK_IDX = TEXT.vocab.stoi[TEXT.unk_token]\r\n",
        "\r\n",
        "model.embedding.weight.data[UNK_IDX] = torch.zeros(EMBEDDING_DIM)\r\n",
        "model.embedding.weight.data[PAD_IDX] = torch.zeros(EMBEDDING_DIM)"
      ],
      "execution_count": null,
      "outputs": []
    },
    {
      "cell_type": "markdown",
      "metadata": {
        "id": "Kb8djOX3TmHS"
      },
      "source": [
        "#### Training & Testing"
      ]
    },
    {
      "cell_type": "markdown",
      "metadata": {
        "id": "xuXztopmoKBZ"
      },
      "source": [
        "Time to test!"
      ]
    },
    {
      "cell_type": "code",
      "metadata": {
        "colab": {
          "base_uri": "https://localhost:8080/"
        },
        "id": "aaWoWkReozBO",
        "outputId": "f098c891-6553-4afc-baf2-0e2a8a913d1c"
      },
      "source": [
        "best_valid_loss = float('inf')\r\n",
        "Neural = TestRNN(model, device)\r\n",
        "\r\n",
        "train_losses = []\r\n",
        "valid_losses = []\r\n",
        "\r\n",
        "for epoch in range(EPOCHS):\r\n",
        "\r\n",
        "    start_time = time.time()\r\n",
        "    \r\n",
        "    train_loss, train_acc = Neural.train(train_iterator)\r\n",
        "    valid_loss, valid_acc = Neural.evaluate(valid_iterator)\r\n",
        "    \r\n",
        "    end_time = time.time()\r\n",
        "\r\n",
        "    epoch_mins, epoch_secs = epoch_time(start_time, end_time)\r\n",
        "    \r\n",
        "    if valid_loss < best_valid_loss:\r\n",
        "        best_valid_loss = valid_loss\r\n",
        "        torch.save(model.state_dict(), 'first.pt')\r\n",
        "    \r\n",
        "    print(f'Epoch: {epoch+1:02} | Epoch Time: {epoch_mins}m {epoch_secs}s')\r\n",
        "    print(f'\\tTrain Loss: {train_loss:.3f} | Train Acc: {train_acc*100:.2f}%')\r\n",
        "    print(f'\\t Val. Loss: {valid_loss:.3f} |  Val. Acc: {valid_acc*100:.2f}%')\r\n",
        "\r\n",
        "    train_losses += [train_loss]\r\n",
        "    valid_losses += [valid_loss]\r\n",
        "\r\n",
        "la = LearningAnalyzer(train_losses, valid_losses, EPOCHS)"
      ],
      "execution_count": null,
      "outputs": [
        {
          "output_type": "stream",
          "text": [
            "Epoch: 01 | Epoch Time: 4m 33s\n",
            "\tTrain Loss: 0.532 | Train Acc: 73.45%\n",
            "\t Val. Loss: 0.461 |  Val. Acc: 78.23%\n",
            "Epoch: 02 | Epoch Time: 4m 33s\n",
            "\tTrain Loss: 0.491 | Train Acc: 76.57%\n",
            "\t Val. Loss: 0.453 |  Val. Acc: 78.85%\n",
            "Epoch: 03 | Epoch Time: 4m 33s\n",
            "\tTrain Loss: 0.479 | Train Acc: 77.41%\n",
            "\t Val. Loss: 0.455 |  Val. Acc: 78.98%\n",
            "Epoch: 04 | Epoch Time: 4m 33s\n",
            "\tTrain Loss: 0.472 | Train Acc: 77.79%\n",
            "\t Val. Loss: 0.458 |  Val. Acc: 78.91%\n",
            "Epoch: 05 | Epoch Time: 4m 33s\n",
            "\tTrain Loss: 0.469 | Train Acc: 78.03%\n",
            "\t Val. Loss: 0.454 |  Val. Acc: 79.09%\n",
            "Epoch: 06 | Epoch Time: 4m 34s\n",
            "\tTrain Loss: 0.466 | Train Acc: 78.26%\n",
            "\t Val. Loss: 0.484 |  Val. Acc: 78.57%\n",
            "Epoch: 07 | Epoch Time: 4m 33s\n",
            "\tTrain Loss: 0.463 | Train Acc: 78.42%\n",
            "\t Val. Loss: 0.481 |  Val. Acc: 78.21%\n",
            "Epoch: 08 | Epoch Time: 4m 33s\n",
            "\tTrain Loss: 0.462 | Train Acc: 78.50%\n",
            "\t Val. Loss: 0.485 |  Val. Acc: 78.43%\n",
            "Epoch: 09 | Epoch Time: 4m 33s\n",
            "\tTrain Loss: 0.461 | Train Acc: 78.62%\n",
            "\t Val. Loss: 0.472 |  Val. Acc: 78.52%\n",
            "Epoch: 10 | Epoch Time: 4m 33s\n",
            "\tTrain Loss: 0.460 | Train Acc: 78.66%\n",
            "\t Val. Loss: 0.499 |  Val. Acc: 78.31%\n"
          ],
          "name": "stdout"
        }
      ]
    },
    {
      "cell_type": "markdown",
      "metadata": {
        "id": "N-0ABQ1eOEAT"
      },
      "source": [
        "We shall show some plots for our experiment. Firstly, we plot the learning curves. This will give us a good idea on whether our model is over-, or underfitting."
      ]
    },
    {
      "cell_type": "code",
      "metadata": {
        "colab": {
          "base_uri": "https://localhost:8080/",
          "height": 295
        },
        "id": "2ZXpvI0GDtRy",
        "outputId": "d0bafc11-c5f0-4a0d-96bb-67288eb4a44f"
      },
      "source": [
        "la.learning_curves()"
      ],
      "execution_count": null,
      "outputs": [
        {
          "output_type": "display_data",
          "data": {
            "image/png": "[encoded data removed]",
            "text/plain": [
              "<Figure size 432x288 with 1 Axes>"
            ]
          },
          "metadata": {
            "tags": [],
            "needs_background": "light"
          }
        }
      ]
    },
    {
      "cell_type": "markdown",
      "metadata": {
        "id": "GnZlH3qlOXtz"
      },
      "source": [
        "Lastly, we test our model using our test set. Using the `ScoreKeeper` class defined earlier, we print a classification report and the ROC curve."
      ]
    },
    {
      "cell_type": "code",
      "metadata": {
        "colab": {
          "base_uri": "https://localhost:8080/",
          "height": 465
        },
        "id": "MQKoMuqUBzah",
        "outputId": "2c4080de-308b-40a2-f264-b0a5b0231175"
      },
      "source": [
        "test_loss, test_acc, sc = Neural.evaluate(test_iterator, plot = True)\r\n",
        "print(f'Test Loss: {test_loss:.3f} | Test Acc: {test_acc*100:.2f}%')\r\n",
        "\r\n",
        "sc.report()\r\n",
        "sc.plot_roc()"
      ],
      "execution_count": null,
      "outputs": [
        {
          "output_type": "stream",
          "text": [
            "Test Loss: 0.498 | Test Acc: 78.36%\n",
            "              precision    recall  f1-score   support\n",
            "\n",
            "         0.0       0.75      0.86      0.80     31900\n",
            "         1.0       0.83      0.71      0.77     31826\n",
            "\n",
            "    accuracy                           0.78     63726\n",
            "   macro avg       0.79      0.78      0.78     63726\n",
            "weighted avg       0.79      0.78      0.78     63726\n",
            "\n"
          ],
          "name": "stdout"
        },
        {
          "output_type": "display_data",
          "data": {
            "image/png": "[encoded data removed]",
            "text/plain": [
              "<Figure size 432x288 with 1 Axes>"
            ]
          },
          "metadata": {
            "tags": [],
            "needs_background": "light"
          }
        }
      ]
    },
    {
      "cell_type": "markdown",
      "metadata": {
        "id": "LNyea_VNqzqm"
      },
      "source": [
        "#### Experiment Documentation"
      ]
    },
    {
      "cell_type": "markdown",
      "metadata": {
        "id": "wWlDjs-rq15P"
      },
      "source": [
        "We document every experiment we did on hyperparameter tuning as well as its overall result. We use accuracy to evalute performance and conclude on the learning wellness by reading the learning curves.\r\n",
        "\r\n",
        "Every result on the tables below has been found using the code above. Specifically, we run all code up to the #OurModels point, tweak the parameters on the Parameterization section and run the Training & Testing section, documenting the results as the last step."
      ]
    },
    {
      "cell_type": "markdown",
      "metadata": {
        "id": "ytKi2wHBwwJY"
      },
      "source": [
        "We will start with a small dataset of 50k examples, to test the waters. 30 Epochs seems like a reasonable value given the time it takes for a deep recurrent neural network takes to train, so we will keep the epochs constant, unless we find prohibitively long training times."
      ]
    },
    {
      "cell_type": "markdown",
      "metadata": {
        "id": "_mmanpR6bkoQ"
      },
      "source": [
        "##### 50k"
      ]
    },
    {
      "cell_type": "markdown",
      "metadata": {
        "id": "cd41H7N4q38W"
      },
      "source": [
        "| TRAIN SIZE | EPOCHS |  N_LAYERS | EMBEDDING_DIM | HIDDEN_DIM | BIDIRECTIONAL | LEARNING_RATE | DROPOUT | TIME PER EPOCH | FINAL TRAIN LOSS |ACCURACY | LEARNING CONCLUSION\r\n",
        "| --- | --- | --- | --- | --- | --- | --- | --- | --- | --- | --- | --- |\r\n",
        "| 50k | 30 | 2 | 50 | 32 | FALSE | 1e-3 | 0.01 | 3s | | **71%** | **Overfit** |\r\n",
        "| 50k | 30 | 2 | 50 | 64 | FALSE | 1e-3 | 0.5 | 3s | 0.237 | **73%** | **Overfit** |\r\n",
        "| 50k | 30 | 2 | 50 | 128 | FALSE | 1e-3 | 0.5 | 3s | 0.220 | **74%** | **Overfit** |\r\n",
        "| 50k | 30 | 2 | 50 | 256 | FALSE | 1e-3 | 0.5 | 3s | 0.206 | **74%** | **Overfit** |\r\n",
        "| 50k | 30 | 2 | 50 | 256 | TRUE | 1e-3 | 0.5 | 5s | 0.194 | **74%** | **Overfit** |\r\n",
        "| 50k | 30 | 2 | 50 | 256 | TRUE | 1e-4 | 0.5 | 5s | 0.193 | **73%** | **Overfit** |\r\n",
        "| 50k | 30 | 2 | 50 | 256 | TRUE | 1e-5 | 0.5 | 5s | 0.193 | **73%** | **Overfit** |\r\n",
        "| 50k | 30 | 2 | 50 | 256 | TRUE | 1e-5 | 0.6 | 5s | 0.273 | **74%** | **Overfit** |\r\n",
        "| 50k | 30 | 2 | 50 | 256 | TRUE | 1e-5 | 0.7 | 5s | 0.347 | **75%** | **Better Overfit** |\r\n",
        "| 50k | 30 | 2 | 50 | 256 | TRUE | 1e-5 | 0.8 | 5s | 0.418 | **76%** | **OK Fit** |\r\n",
        "| 50k | 30 | 3 | 50 | 256 | TRUE | 1e-5 | 0.8 | 5s | 0.424 | **76%** | **OK Fit** |\r\n",
        "| 50k | 30 | 3 | 50 | 512 | TRUE | 1e-5 | 0.8 | 12s | 0.423 | **77%** | **OK Fit** |\r\n",
        "| 50k | 30 | 4 | 50 | 512 | TRUE | 1e-5 | 0.8 | 17s | 0.432 | **77%** | **OK Fit** |\r\n",
        "\r\n",
        "\r\n"
      ]
    },
    {
      "cell_type": "markdown",
      "metadata": {
        "id": "EJGTV6tsxcS-"
      },
      "source": [
        "We can see plenty of things from the above experiments. For example, the learning rate does not seem to have too much of an influence in either training loss or final testing accuracy.\r\n",
        "\r\n",
        "Secondly, a a very big factor seems to be the dropout probability, when it comes to accuracy. Though, expectedly, it somewhat increases the average loss during training, it smoothes out the learning curves by a significant margin, rendering the model more accurate overall.\r\n",
        "\r\n",
        "Final note before we move on to bigger training sizes, is that the first experiments were done to most importantly test the model with different parameters, but also to try and combat the obvious overfitting. When the overfitting was \"defeated\", we made the model more complex by increasing the size of the hidden layer and by increasing the number of layers. While it significantly increases run time and training loss, it plays a role in smoothing out the learning curves and increasing the model's accuracy."
      ]
    },
    {
      "cell_type": "markdown",
      "metadata": {
        "id": "DZ4gFDPjbnpW"
      },
      "source": [
        "##### 100k"
      ]
    },
    {
      "cell_type": "markdown",
      "metadata": {
        "id": "3lADiVgTQYne"
      },
      "source": [
        "In this stage, we feel like we've seen enough from the limited training size. It's time to increase the training size and get more tangible results. We will repeat every test for double the training size, and see if the results remain similar."
      ]
    },
    {
      "cell_type": "markdown",
      "metadata": {
        "id": "ZsX6Zi6pQsaH"
      },
      "source": [
        "| TRAIN SIZE | EPOCHS |  N_LAYERS | EMBEDDING_DIM | HIDDEN_DIM | BIDIRECTIONAL | LEARNING_RATE | DROPOUT | TIME PER EPOCH | FINAL TRAIN LOSS |ACCURACY | LEARNING CONCLUSION\r\n",
        "| --- | --- | --- | --- | --- | --- | --- | --- | --- | --- | --- | --- |\r\n",
        "| 100k | 30 | 2 | 50 | 64 | FALSE | 1e-3 | 0.5 | 7s | 0.285 | **75%** | **Overfit** |\r\n",
        "| 100k | 30 | 2 | 50 | 256 | FALSE | 1e-3 | 0.5 | 7s | 0.249 | **74%** | **Overfit** |\r\n",
        "| 100k | 30 | 2 | 50 | 256 | TRUE | 1e-3 | 0.5 | 10s | 0.245 | **75%** | **Overfit** |\r\n",
        "| 100k | 30 | 2 | 50 | 256 | TRUE | 1e-5 | 0.5 | 11s | 0.242 | **75%** | **Overfit** |\r\n",
        "| 100k | 30 | 2 | 50 | 256 | TRUE | 1e-5 | 0.6 | 11s | 0.306 | **76%** | **Overfit** |\r\n",
        "| 100k | 30 | 2 | 50 | 256 | TRUE | 1e-5 | 0.7 | 10s | 0.369 | **76%** | **Better Overfit** |\r\n",
        "| 100k | 30 | 2 | 50 | 256 | TRUE | 1e-5 | 0.8 | 10s | 0.486 | **76%** | **OK Fit** |\r\n",
        "| 100k | 30 | 3 | 50 | 256 | TRUE | 1e-5 | 0.8 | 15s | 0.483 | **77%** | **OK Fit** |\r\n",
        "| 100k | 30 | 3 | 50 | 512 | TRUE | 1e-5 | 0.8 | 35s | 0.433 | **77%** | **Better Fit** |\r\n",
        "| 100k | 30 | 4 | 50 | 512 | TRUE | 1e-5 | 0.8 | 49s | 0.444 | **77%** | **Better Fit** |"
      ]
    },
    {
      "cell_type": "markdown",
      "metadata": {
        "id": "ctnavRshp-Vw"
      },
      "source": [
        "We observe better fitting as we move on with our experiments like we saw in the previous experiment. Also, in the last experiments, the amount of time the test takes for each epoch is starting to become prohibitive. 49s per epoch means ~25 minutes of runtime! And we're only dealing with 10% of the dataset for now."
      ]
    },
    {
      "cell_type": "markdown",
      "metadata": {
        "id": "DJxOQqdi1SgR"
      },
      "source": [
        "##### Full Dataset"
      ]
    },
    {
      "cell_type": "markdown",
      "metadata": {
        "id": "E36xQy690_Lj"
      },
      "source": [
        "We will do one last test with 10 epochs for the whole dataset for this first model, using the parameters that were evaluated the best, respecting of course the time needed for it to run."
      ]
    },
    {
      "cell_type": "markdown",
      "metadata": {
        "id": "GJLuPOAS1MwH"
      },
      "source": [
        "| TRAIN SIZE | EPOCHS |  N_LAYERS | EMBEDDING_DIM | HIDDEN_DIM | BIDIRECTIONAL | LEARNING_RATE | DROPOUT | TIME PER EPOCH | FINAL TRAIN LOSS |ACCURACY | LEARNING CONCLUSION\r\n",
        "| --- | --- | --- | --- | --- | --- | --- | --- | --- | --- | --- | --- |\r\n",
        "| FULL | 10 | 2 | 50 | 512 | TRUE | 1e-5 | 0.8 | 4m33s | 0.460 | **78%** | **Better Fit** |"
      ]
    },
    {
      "cell_type": "markdown",
      "metadata": {
        "id": "6MqXvVOHiEA6"
      },
      "source": [
        "Alas, this is our best model yet. It beats everything we have made so far, including models from the previous assignments. That's to be expected, though. Having more data usually smoothens out the learning curves, making the model more generalized. Hence, our accuracy has increased."
      ]
    },
    {
      "cell_type": "markdown",
      "metadata": {
        "id": "9HvCxuLK0RHi"
      },
      "source": [
        "### Using GRU"
      ]
    },
    {
      "cell_type": "markdown",
      "metadata": {
        "id": "zu-gwbMS0Za1"
      },
      "source": [
        "We will create another model similar to the previous one, but using GRU as our rnn module rather than LSTM. We will do similar experiments, and adapt based on execution time and performance behaviour."
      ]
    },
    {
      "cell_type": "markdown",
      "metadata": {
        "id": "CWkgINhNnIPf"
      },
      "source": [
        "#### Modifications"
      ]
    },
    {
      "cell_type": "code",
      "metadata": {
        "id": "Jigj8pCL2DJN"
      },
      "source": [
        "import torch.nn as nn\r\n",
        "\r\n",
        "class GRU_RNN(nn.Module):\r\n",
        "    def __init__(self, vocab_size, embedding_dim, hidden_dim, output_dim, num_layers, bidirectional, dropout, pad_idx):\r\n",
        "\r\n",
        "        super().__init__()\r\n",
        "\r\n",
        "        self.embedding = nn.Embedding(vocab_size, embedding_dim, padding_idx = pad_idx)\r\n",
        "        self.rnn = nn.GRU(embedding_dim, hidden_dim, num_layers=num_layers, bidirectional=bidirectional, dropout=dropout) # <---\r\n",
        "        self.fc = nn.Linear(hidden_dim * 2, output_dim)\r\n",
        "        self.dropout = nn.Dropout(dropout)\r\n",
        "\r\n",
        "    def forward(self, text, text_lengths):\r\n",
        "        embedded = self.embedding(text)\r\n",
        "        embedded = self.dropout(embedded)\r\n",
        "\r\n",
        "        packed = nn.utils.rnn.pack_padded_sequence(embedded, text_lengths.cpu())\r\n",
        "        packed_output, hidden = self.rnn(packed) # <----\r\n",
        "\r\n",
        "        output, output_lengths = nn.utils.rnn.pad_packed_sequence(packed_output)\r\n",
        "\r\n",
        "        hidden = self.dropout(torch.cat((hidden[-2, :, :], hidden[-1, :, :]), dim=1 ))\r\n",
        "\r\n",
        "        return self.fc(hidden)"
      ],
      "execution_count": 161,
      "outputs": []
    },
    {
      "cell_type": "markdown",
      "metadata": {
        "id": "UWbJPuZk2XAk"
      },
      "source": [
        "#### Parameterization"
      ]
    },
    {
      "cell_type": "code",
      "metadata": {
        "id": "axlESpt82XAl"
      },
      "source": [
        "EPOCHS = 10\r\n",
        "INPUT_DIM = len(TEXT.vocab)\r\n",
        "EMBEDDING_DIM = 50 # This is the glove embeddings we have donwloaded\r\n",
        "HIDDEN_DIM = 512\r\n",
        "OUTPUT_DIM = 1\r\n",
        "N_LAYERS = 2\r\n",
        "BIDIRECTIONAL = True\r\n",
        "LEARNING_RATE = 1e-5\r\n",
        "DROPOUT = 0.8\r\n",
        "PAD_IDX = TEXT.vocab.stoi[TEXT.pad_token]\r\n",
        "\r\n",
        "model = GRU_RNN(INPUT_DIM, \r\n",
        "            EMBEDDING_DIM, \r\n",
        "            HIDDEN_DIM, \r\n",
        "            OUTPUT_DIM, \r\n",
        "            N_LAYERS, \r\n",
        "            BIDIRECTIONAL, \r\n",
        "            DROPOUT, \r\n",
        "            PAD_IDX)"
      ],
      "execution_count": 166,
      "outputs": []
    },
    {
      "cell_type": "code",
      "metadata": {
        "id": "u_QI_52B2XAm",
        "colab": {
          "base_uri": "https://localhost:8080/"
        },
        "outputId": "3685a0eb-07e4-46d8-b513-e1708f346070"
      },
      "source": [
        "pretrained_embeddings = TEXT.vocab.vectors\r\n",
        "model.embedding.weight.data.copy_(pretrained_embeddings)"
      ],
      "execution_count": 167,
      "outputs": [
        {
          "output_type": "execute_result",
          "data": {
            "text/plain": [
              "tensor([[-0.1821, -0.1792,  0.3977,  ...,  0.2259,  0.6999,  0.8952],\n",
              "        [ 1.1272,  0.6960,  0.6574,  ...,  1.0464,  0.4389, -0.9164],\n",
              "        [ 0.0583,  1.3067,  0.0071,  ..., -0.4188,  0.4549, -0.5082],\n",
              "        ...,\n",
              "        [ 0.4156,  0.0547, -0.7844,  ...,  0.6150,  0.0126, -0.3223],\n",
              "        [-1.4078,  0.1634, -0.3136,  ...,  0.1820, -1.2061,  0.1299],\n",
              "        [-0.9243, -0.2683,  0.6521,  ...,  0.3083, -0.1077, -0.2120]])"
            ]
          },
          "metadata": {
            "tags": []
          },
          "execution_count": 167
        }
      ]
    },
    {
      "cell_type": "code",
      "metadata": {
        "id": "6FHiYRgO2XAm"
      },
      "source": [
        "UNK_IDX = TEXT.vocab.stoi[TEXT.unk_token]\r\n",
        "\r\n",
        "model.embedding.weight.data[UNK_IDX] = torch.zeros(EMBEDDING_DIM)\r\n",
        "model.embedding.weight.data[PAD_IDX] = torch.zeros(EMBEDDING_DIM)"
      ],
      "execution_count": 168,
      "outputs": []
    },
    {
      "cell_type": "markdown",
      "metadata": {
        "id": "JX-Qvbf_2dVR"
      },
      "source": [
        "#### Training & Testing"
      ]
    },
    {
      "cell_type": "markdown",
      "metadata": {
        "id": "TlsqbC_j2dVT"
      },
      "source": [
        "Time to test!"
      ]
    },
    {
      "cell_type": "code",
      "metadata": {
        "id": "xTuqbjcc2dVU",
        "colab": {
          "base_uri": "https://localhost:8080/"
        },
        "outputId": "6c71bad0-a04b-45bf-95a7-f9322e4ddff8"
      },
      "source": [
        "best_valid_loss = float('inf')\r\n",
        "Neural = TestRNN(model, device)\r\n",
        "\r\n",
        "train_losses = []\r\n",
        "valid_losses = []\r\n",
        "\r\n",
        "for epoch in range(EPOCHS):\r\n",
        "\r\n",
        "    start_time = time.time()\r\n",
        "    \r\n",
        "    train_loss, train_acc = Neural.train(train_iterator)\r\n",
        "    valid_loss, valid_acc = Neural.evaluate(valid_iterator)\r\n",
        "    \r\n",
        "    end_time = time.time()\r\n",
        "\r\n",
        "    epoch_mins, epoch_secs = epoch_time(start_time, end_time)\r\n",
        "    \r\n",
        "    if valid_loss < best_valid_loss:\r\n",
        "        best_valid_loss = valid_loss\r\n",
        "        torch.save(model.state_dict(), 'gru.pt')\r\n",
        "    \r\n",
        "    print(f'Epoch: {epoch+1:02} | Epoch Time: {epoch_mins}m {epoch_secs}s')\r\n",
        "    print(f'\\tTrain Loss: {train_loss:.3f} | Train Acc: {train_acc*100:.2f}%')\r\n",
        "    print(f'\\t Val. Loss: {valid_loss:.3f} |  Val. Acc: {valid_acc*100:.2f}%')\r\n",
        "\r\n",
        "    train_losses += [train_loss]\r\n",
        "    valid_losses += [valid_loss]\r\n",
        "\r\n",
        "la = LearningAnalyzer(train_losses, valid_losses, EPOCHS)"
      ],
      "execution_count": null,
      "outputs": [
        {
          "output_type": "stream",
          "text": [
            "Epoch: 01 | Epoch Time: 3m 2s\n",
            "\tTrain Loss: 0.547 | Train Acc: 72.28%\n",
            "\t Val. Loss: 0.473 |  Val. Acc: 77.77%\n",
            "Epoch: 02 | Epoch Time: 3m 2s\n",
            "\tTrain Loss: 0.508 | Train Acc: 75.39%\n",
            "\t Val. Loss: 0.472 |  Val. Acc: 78.07%\n"
          ],
          "name": "stdout"
        }
      ]
    },
    {
      "cell_type": "code",
      "metadata": {
        "id": "AaauCWH52dVX"
      },
      "source": [
        "la.learning_curves()"
      ],
      "execution_count": null,
      "outputs": []
    },
    {
      "cell_type": "code",
      "metadata": {
        "id": "vx6Y13v82dVY"
      },
      "source": [
        "test_loss, test_acc, sc = Neural.evaluate(test_iterator, plot = True)\r\n",
        "print(f'Test Loss: {test_loss:.3f} | Test Acc: {test_acc*100:.2f}%')\r\n",
        "\r\n",
        "sc.report()\r\n",
        "sc.plot_roc()"
      ],
      "execution_count": null,
      "outputs": []
    },
    {
      "cell_type": "markdown",
      "metadata": {
        "id": "_Mj2QNzykJTF"
      },
      "source": [
        "#### Experiment Documentation"
      ]
    },
    {
      "cell_type": "markdown",
      "metadata": {
        "id": "SFgY6UtokQOB"
      },
      "source": [
        "As before, we will document every experiment we tried to increase performance (accuracy) and fitting. This time, we will only use a handful of 100k train_size experiments as well as a full dataset experiment"
      ]
    },
    {
      "cell_type": "markdown",
      "metadata": {
        "id": "OcaXQRuUllLS"
      },
      "source": [
        "| TRAIN SIZE | EPOCHS |  N_LAYERS | EMBEDDING_DIM | HIDDEN_DIM | BIDIRECTIONAL | LEARNING_RATE | DROPOUT | TIME PER EPOCH | FINAL TRAIN LOSS |ACCURACY | LEARNING CONCLUSION\r\n",
        "| --- | --- | --- | --- | --- | --- | --- | --- | --- | --- | --- | --- |\r\n",
        "| 100k | 30 | 2 | 50 | 256 | TRUE | 1e-5 | 0.5 | 10s | 0.265 | **74%** | **Overfit** |\r\n",
        "| 100k | 30 | 2 | 50 | 256 | TRUE | 1e-5 | 0.6 | 10s | 0.326 | **75%** | **Overfit** |\r\n",
        "| 100k | 30 | 2 | 50 | 256 | TRUE | 1e-5 | 0.8 | 10s | 0.447 | **77%** | **Good Fit** |\r\n",
        "| 100k | 30 | 2 | 50 | 512 | TRUE | 1e-5 | 0.8 | 14s | 0.463 | **77%** | **Good Fit** |\r\n",
        "| 100k | 30 | 3 | 50 | 512 | TRUE | 1e-5 | 0.8 | 22s | 0.494 | **76%** | **Good Fit** |\r\n",
        "| 100k | 30 | 4 | 50 | 512 | TRUE | 1e-5 | 0.8 | 31s | 0.528 | **75%** | **Better Fit** |"
      ]
    },
    {
      "cell_type": "markdown",
      "metadata": {
        "id": "vRlbshgz2odG"
      },
      "source": [
        "As expected by the relative simplicity of GRU to simple LSTM, the model takes considerably less time to train. Of course, that difference will only really reveal itself when we test our model using the full dataset.\r\n",
        "\r\n",
        "Sadly though, the performance seems to deteriorate as we make the model more complex. We will try to fix that problem using the Gradient Clipping technique after we document and discuss the full dataset experiment."
      ]
    },
    {
      "cell_type": "markdown",
      "metadata": {
        "id": "VGeNE1zlqx8X"
      },
      "source": [
        "##### Full Dataset"
      ]
    },
    {
      "cell_type": "markdown",
      "metadata": {
        "id": "dGCDJLjsq1dr"
      },
      "source": [
        "| TRAIN SIZE | EPOCHS |  N_LAYERS | EMBEDDING_DIM | HIDDEN_DIM | BIDIRECTIONAL | LEARNING_RATE | DROPOUT | TIME PER EPOCH | FINAL TRAIN LOSS |ACCURACY | LEARNING CONCLUSION\r\n",
        "| --- | --- | --- | --- | --- | --- | --- | --- | --- | --- | --- | --- |\r\n",
        "| FULL | 10 | 2 | 50 | 512 | TRUE | 1e-5 | 0.5 | 10s | 0.460 | **78%** | **Better Fit** |"
      ]
    },
    {
      "cell_type": "markdown",
      "metadata": {
        "id": "b1N9nc6POVnt"
      },
      "source": [
        "In general, we can clearly see a faster neural network, with not much of a difference in performance. It goes to show why people around the world are starting to adopt GRUs as the go-to recurrenct neural network choice. Moreover, though it is hard to tell, we observe better learning using the GRUs. I cannot exactly tell why, I couldn't find relevant articles or threads on that matter generally."
      ]
    },
    {
      "cell_type": "markdown",
      "metadata": {
        "id": "7pLtRZFXkfvT"
      },
      "source": [
        "### Adding Grid Clipping"
      ]
    },
    {
      "cell_type": "markdown",
      "metadata": {
        "id": "94UWsRHcl9Qg"
      },
      "source": [
        "We will now add Gradient Clipping to our model, in hopes of optimizing our model even more. We saw that using GRU over LSTM was more efficient as the theory suggests, but was failing to keep up accuracy while making the model more comples. Though, we have reached a good score, it never hurts to try more things. To achieve that, it is not the models that we have to modify, but our training class."
      ]
    },
    {
      "cell_type": "markdown",
      "metadata": {
        "id": "3_AtPHZ-nFhz"
      },
      "source": [
        "#### Modifications"
      ]
    },
    {
      "cell_type": "code",
      "metadata": {
        "id": "ALiIYgNrl9Qg"
      },
      "source": [
        "class Test_Clip_RNN():\r\n",
        "    def __init__(self, model, device, clip = 1):\r\n",
        "        self.clip = 1\r\n",
        "\r\n",
        "        self.model = model.to(device)\r\n",
        "\r\n",
        "        self.criterion = nn.BCEWithLogitsLoss().to(device)\r\n",
        "        self.optimizer = optim.Adam(self.model.parameters())\r\n",
        "\r\n",
        "    def train(self, iterator):\r\n",
        "        epoch_loss = 0\r\n",
        "        epoch_acc = 0\r\n",
        "\r\n",
        "        self.model.train()\r\n",
        "\r\n",
        "        for batch in iterator:\r\n",
        "            self.optimizer.zero_grad()\r\n",
        "\r\n",
        "            text, text_lengths = batch.clean\r\n",
        "\r\n",
        "            preds = self.model(text, text_lengths).squeeze(1)\r\n",
        "            loss = self.criterion(preds, batch.target)\r\n",
        "\r\n",
        "            acc = binary_accuracy(preds, batch.target)\r\n",
        "\r\n",
        "            loss.backward()\r\n",
        "            torch.nn.utils.clip_grad_norm_(model.parameters(), self.clip) # <---\r\n",
        "            self.optimizer.step()\r\n",
        "\r\n",
        "            epoch_loss += loss.item()\r\n",
        "            epoch_acc += acc.item()\r\n",
        "\r\n",
        "\r\n",
        "        return epoch_loss / len(iterator), epoch_acc / len(iterator)\r\n",
        "\r\n",
        "    def evaluate(self, iterator, plot = False):\r\n",
        "        epoch_loss = 0\r\n",
        "        epoch_acc = 0\r\n",
        "\r\n",
        "        self.model.eval()\r\n",
        "\r\n",
        "        if plot:\r\n",
        "            real = []\r\n",
        "            predictions = []\r\n",
        "            rounded_predictions = []\r\n",
        "\r\n",
        "        with torch.no_grad():\r\n",
        "\r\n",
        "            for batch in iterator:\r\n",
        "\r\n",
        "                text, text_lengths = batch.clean\r\n",
        "\r\n",
        "                preds = self.model(text, text_lengths).squeeze(1)\r\n",
        "\r\n",
        "                loss = self.criterion(preds, batch.target)\r\n",
        "                acc = binary_accuracy(preds, batch.target)\r\n",
        "\r\n",
        "                epoch_loss += loss.item()\r\n",
        "                epoch_acc += acc.item()\r\n",
        "\r\n",
        "                if plot:\r\n",
        "                    real += batch.target.tolist()\r\n",
        "                    predictions += torch.sigmoid(preds).tolist()\r\n",
        "                    rounded_predictions += torch.round(torch.sigmoid(preds)).tolist()\r\n",
        "\r\n",
        "        if plot:\r\n",
        "            return epoch_loss / len(iterator), epoch_acc / len(iterator), ScoreKeeper(predictions, real, rounded_predictions)\r\n",
        "\r\n",
        "        return epoch_loss / len(iterator), epoch_acc / len(iterator)"
      ],
      "execution_count": 97,
      "outputs": []
    },
    {
      "cell_type": "markdown",
      "metadata": {
        "id": "gkevj4e0l9Qh"
      },
      "source": [
        "#### Parameterization"
      ]
    },
    {
      "cell_type": "code",
      "metadata": {
        "id": "YtW3YwxNl9Qh"
      },
      "source": [
        "EPOCHS = 30\r\n",
        "INPUT_DIM = len(TEXT.vocab)\r\n",
        "EMBEDDING_DIM = 50 # This is the glove embeddings we have donwloaded\r\n",
        "HIDDEN_DIM = 512\r\n",
        "OUTPUT_DIM = 1\r\n",
        "N_LAYERS = 4\r\n",
        "BIDIRECTIONAL = True\r\n",
        "LEARNING_RATE = 1e-5\r\n",
        "DROPOUT = 0.8\r\n",
        "CLIP = 1\r\n",
        "PAD_IDX = TEXT.vocab.stoi[TEXT.pad_token]\r\n",
        "\r\n",
        "model = GRU_RNN(INPUT_DIM, \r\n",
        "            EMBEDDING_DIM, \r\n",
        "            HIDDEN_DIM, \r\n",
        "            OUTPUT_DIM, \r\n",
        "            N_LAYERS, \r\n",
        "            BIDIRECTIONAL, \r\n",
        "            DROPOUT, \r\n",
        "            PAD_IDX)"
      ],
      "execution_count": 140,
      "outputs": []
    },
    {
      "cell_type": "code",
      "metadata": {
        "colab": {
          "base_uri": "https://localhost:8080/"
        },
        "id": "O5_qC7nKl9Qh",
        "outputId": "7248ddb0-3d6d-49c1-c51d-bef358bb5564"
      },
      "source": [
        "pretrained_embeddings = TEXT.vocab.vectors\r\n",
        "model.embedding.weight.data.copy_(pretrained_embeddings)"
      ],
      "execution_count": 141,
      "outputs": [
        {
          "output_type": "execute_result",
          "data": {
            "text/plain": [
              "tensor([[ 1.2848, -0.1642, -0.6396,  ...,  0.8230,  0.4294, -0.9379],\n",
              "        [ 0.9742,  0.9938, -0.9120,  ..., -0.0981,  0.0896,  0.0775],\n",
              "        [ 0.0583,  1.3067,  0.0071,  ..., -0.4188,  0.4549, -0.5082],\n",
              "        ...,\n",
              "        [-0.3168, -0.1217,  0.0875,  ..., -0.3392,  0.9524,  0.1214],\n",
              "        [ 1.9586,  0.2956, -1.3485,  ..., -0.0842,  0.8697, -0.5689],\n",
              "        [-0.4399, -0.7938, -0.4095,  ...,  0.0846,  0.9195, -0.7740]])"
            ]
          },
          "metadata": {
            "tags": []
          },
          "execution_count": 141
        }
      ]
    },
    {
      "cell_type": "code",
      "metadata": {
        "id": "SxKzJz8Nl9Qi"
      },
      "source": [
        "UNK_IDX = TEXT.vocab.stoi[TEXT.unk_token]\r\n",
        "\r\n",
        "model.embedding.weight.data[UNK_IDX] = torch.zeros(EMBEDDING_DIM)\r\n",
        "model.embedding.weight.data[PAD_IDX] = torch.zeros(EMBEDDING_DIM)"
      ],
      "execution_count": 142,
      "outputs": []
    },
    {
      "cell_type": "markdown",
      "metadata": {
        "id": "ykQjUYMcl9Qi"
      },
      "source": [
        "#### Training & Testing"
      ]
    },
    {
      "cell_type": "markdown",
      "metadata": {
        "id": "4UHHp5MDl9Qi"
      },
      "source": [
        "Time to test!"
      ]
    },
    {
      "cell_type": "code",
      "metadata": {
        "colab": {
          "base_uri": "https://localhost:8080/"
        },
        "id": "Dsl3nmw0l9Qi",
        "outputId": "baf40369-d29e-4326-a768-193771dec328"
      },
      "source": [
        "best_valid_loss = float('inf')\r\n",
        "Neural = Test_Clip_RNN(model, device, clip=CLIP)\r\n",
        "\r\n",
        "train_losses = []\r\n",
        "valid_losses = []\r\n",
        "\r\n",
        "for epoch in range(EPOCHS):\r\n",
        "\r\n",
        "    start_time = time.time()\r\n",
        "    \r\n",
        "    train_loss, train_acc = Neural.train(train_iterator)\r\n",
        "    valid_loss, valid_acc = Neural.evaluate(valid_iterator)\r\n",
        "    \r\n",
        "    end_time = time.time()\r\n",
        "\r\n",
        "    epoch_mins, epoch_secs = epoch_time(start_time, end_time)\r\n",
        "    \r\n",
        "    if valid_loss < best_valid_loss:\r\n",
        "        best_valid_loss = valid_loss\r\n",
        "        torch.save(model.state_dict(), 'gru_clip.pt')\r\n",
        "    \r\n",
        "    print(f'Epoch: {epoch+1:02} | Epoch Time: {epoch_mins}m {epoch_secs}s')\r\n",
        "    print(f'\\tTrain Loss: {train_loss:.3f} | Train Acc: {train_acc*100:.2f}%')\r\n",
        "    print(f'\\t Val. Loss: {valid_loss:.3f} |  Val. Acc: {valid_acc*100:.2f}%')\r\n",
        "\r\n",
        "    train_losses += [train_loss]\r\n",
        "    valid_losses += [valid_loss]\r\n",
        "\r\n",
        "la = LearningAnalyzer(train_losses, valid_losses, EPOCHS)"
      ],
      "execution_count": 143,
      "outputs": [
        {
          "output_type": "stream",
          "text": [
            "Epoch: 01 | Epoch Time: 0m 33s\n",
            "\tTrain Loss: 0.652 | Train Acc: 63.04%\n",
            "\t Val. Loss: 0.549 |  Val. Acc: 73.75%\n",
            "Epoch: 02 | Epoch Time: 0m 33s\n",
            "\tTrain Loss: 0.608 | Train Acc: 67.53%\n",
            "\t Val. Loss: 0.512 |  Val. Acc: 75.38%\n",
            "Epoch: 03 | Epoch Time: 0m 33s\n",
            "\tTrain Loss: 0.584 | Train Acc: 69.64%\n",
            "\t Val. Loss: 0.506 |  Val. Acc: 75.32%\n",
            "Epoch: 04 | Epoch Time: 0m 34s\n",
            "\tTrain Loss: 0.567 | Train Acc: 71.13%\n",
            "\t Val. Loss: 0.503 |  Val. Acc: 76.54%\n",
            "Epoch: 05 | Epoch Time: 0m 33s\n",
            "\tTrain Loss: 0.558 | Train Acc: 71.48%\n",
            "\t Val. Loss: 0.509 |  Val. Acc: 75.80%\n",
            "Epoch: 06 | Epoch Time: 0m 33s\n",
            "\tTrain Loss: 0.553 | Train Acc: 72.22%\n",
            "\t Val. Loss: 0.495 |  Val. Acc: 76.86%\n",
            "Epoch: 07 | Epoch Time: 0m 33s\n",
            "\tTrain Loss: 0.547 | Train Acc: 72.43%\n",
            "\t Val. Loss: 0.493 |  Val. Acc: 75.89%\n",
            "Epoch: 08 | Epoch Time: 0m 33s\n",
            "\tTrain Loss: 0.544 | Train Acc: 72.84%\n",
            "\t Val. Loss: 0.491 |  Val. Acc: 76.22%\n",
            "Epoch: 09 | Epoch Time: 0m 34s\n",
            "\tTrain Loss: 0.541 | Train Acc: 73.12%\n",
            "\t Val. Loss: 0.499 |  Val. Acc: 75.42%\n",
            "Epoch: 10 | Epoch Time: 0m 33s\n",
            "\tTrain Loss: 0.538 | Train Acc: 73.50%\n",
            "\t Val. Loss: 0.511 |  Val. Acc: 75.46%\n",
            "Epoch: 11 | Epoch Time: 0m 33s\n",
            "\tTrain Loss: 0.534 | Train Acc: 73.66%\n",
            "\t Val. Loss: 0.499 |  Val. Acc: 75.53%\n",
            "Epoch: 12 | Epoch Time: 0m 33s\n",
            "\tTrain Loss: 0.533 | Train Acc: 73.60%\n",
            "\t Val. Loss: 0.497 |  Val. Acc: 75.30%\n",
            "Epoch: 13 | Epoch Time: 0m 33s\n",
            "\tTrain Loss: 0.533 | Train Acc: 73.71%\n",
            "\t Val. Loss: 0.492 |  Val. Acc: 76.18%\n",
            "Epoch: 14 | Epoch Time: 0m 33s\n",
            "\tTrain Loss: 0.532 | Train Acc: 73.90%\n",
            "\t Val. Loss: 0.503 |  Val. Acc: 74.94%\n",
            "Epoch: 15 | Epoch Time: 0m 33s\n",
            "\tTrain Loss: 0.531 | Train Acc: 73.63%\n",
            "\t Val. Loss: 0.494 |  Val. Acc: 76.77%\n",
            "Epoch: 16 | Epoch Time: 0m 34s\n",
            "\tTrain Loss: 0.528 | Train Acc: 74.27%\n",
            "\t Val. Loss: 0.498 |  Val. Acc: 76.31%\n",
            "Epoch: 17 | Epoch Time: 0m 34s\n",
            "\tTrain Loss: 0.528 | Train Acc: 74.04%\n",
            "\t Val. Loss: 0.489 |  Val. Acc: 76.98%\n",
            "Epoch: 18 | Epoch Time: 0m 34s\n",
            "\tTrain Loss: 0.528 | Train Acc: 74.12%\n",
            "\t Val. Loss: 0.493 |  Val. Acc: 76.50%\n",
            "Epoch: 19 | Epoch Time: 0m 33s\n",
            "\tTrain Loss: 0.528 | Train Acc: 74.04%\n",
            "\t Val. Loss: 0.499 |  Val. Acc: 74.64%\n",
            "Epoch: 20 | Epoch Time: 0m 33s\n",
            "\tTrain Loss: 0.527 | Train Acc: 74.18%\n",
            "\t Val. Loss: 0.494 |  Val. Acc: 75.91%\n",
            "Epoch: 21 | Epoch Time: 0m 33s\n",
            "\tTrain Loss: 0.530 | Train Acc: 73.96%\n",
            "\t Val. Loss: 0.500 |  Val. Acc: 75.25%\n",
            "Epoch: 22 | Epoch Time: 0m 33s\n",
            "\tTrain Loss: 0.528 | Train Acc: 74.20%\n",
            "\t Val. Loss: 0.491 |  Val. Acc: 76.71%\n",
            "Epoch: 23 | Epoch Time: 0m 33s\n",
            "\tTrain Loss: 0.527 | Train Acc: 74.13%\n",
            "\t Val. Loss: 0.497 |  Val. Acc: 76.01%\n",
            "Epoch: 24 | Epoch Time: 0m 33s\n",
            "\tTrain Loss: 0.524 | Train Acc: 74.27%\n",
            "\t Val. Loss: 0.498 |  Val. Acc: 76.20%\n",
            "Epoch: 25 | Epoch Time: 0m 33s\n",
            "\tTrain Loss: 0.527 | Train Acc: 74.22%\n",
            "\t Val. Loss: 0.503 |  Val. Acc: 75.59%\n",
            "Epoch: 26 | Epoch Time: 0m 34s\n",
            "\tTrain Loss: 0.527 | Train Acc: 74.02%\n",
            "\t Val. Loss: 0.500 |  Val. Acc: 76.06%\n",
            "Epoch: 27 | Epoch Time: 0m 33s\n",
            "\tTrain Loss: 0.530 | Train Acc: 74.08%\n",
            "\t Val. Loss: 0.496 |  Val. Acc: 75.95%\n",
            "Epoch: 28 | Epoch Time: 0m 33s\n",
            "\tTrain Loss: 0.529 | Train Acc: 74.02%\n",
            "\t Val. Loss: 0.512 |  Val. Acc: 74.81%\n",
            "Epoch: 29 | Epoch Time: 0m 33s\n",
            "\tTrain Loss: 0.529 | Train Acc: 74.09%\n",
            "\t Val. Loss: 0.501 |  Val. Acc: 75.55%\n",
            "Epoch: 30 | Epoch Time: 0m 34s\n",
            "\tTrain Loss: 0.529 | Train Acc: 74.12%\n",
            "\t Val. Loss: 0.508 |  Val. Acc: 74.54%\n"
          ],
          "name": "stdout"
        }
      ]
    },
    {
      "cell_type": "code",
      "metadata": {
        "colab": {
          "base_uri": "https://localhost:8080/",
          "height": 295
        },
        "id": "1stoXivul9Qj",
        "outputId": "fb738715-64d7-4a35-fe1e-a2e6c8200d24"
      },
      "source": [
        "la.learning_curves()"
      ],
      "execution_count": 144,
      "outputs": [
        {
          "output_type": "display_data",
          "data": {
            "image/png": "[encoded data removed]",
            "text/plain": [
              "<Figure size 432x288 with 1 Axes>"
            ]
          },
          "metadata": {
            "tags": [],
            "needs_background": "light"
          }
        }
      ]
    },
    {
      "cell_type": "code",
      "metadata": {
        "colab": {
          "base_uri": "https://localhost:8080/",
          "height": 465
        },
        "id": "46l1e4w8l9Qj",
        "outputId": "11126566-eac5-4d70-ed78-35e472203270"
      },
      "source": [
        "test_loss, test_acc, sc = Neural.evaluate(test_iterator, plot = True)\r\n",
        "print(f'Test Loss: {test_loss:.3f} | Test Acc: {test_acc*100:.2f}%')\r\n",
        "\r\n",
        "sc.report()\r\n",
        "sc.plot_roc()"
      ],
      "execution_count": 145,
      "outputs": [
        {
          "output_type": "stream",
          "text": [
            "Test Loss: 0.512 | Test Acc: 74.06%\n",
            "              precision    recall  f1-score   support\n",
            "\n",
            "         0.0       0.70      0.84      0.77      2513\n",
            "         1.0       0.80      0.64      0.71      2473\n",
            "\n",
            "    accuracy                           0.74      4986\n",
            "   macro avg       0.75      0.74      0.74      4986\n",
            "weighted avg       0.75      0.74      0.74      4986\n",
            "\n"
          ],
          "name": "stdout"
        },
        {
          "output_type": "display_data",
          "data": {
            "image/png": "[encoded data removed]",
            "text/plain": [
              "<Figure size 432x288 with 1 Axes>"
            ]
          },
          "metadata": {
            "tags": [],
            "needs_background": "light"
          }
        }
      ]
    },
    {
      "cell_type": "markdown",
      "metadata": {
        "id": "kMWWGtDSl9Qj"
      },
      "source": [
        "#### Experiment Documentation"
      ]
    },
    {
      "cell_type": "markdown",
      "metadata": {
        "id": "oTOoFFeEl9Qk"
      },
      "source": [
        "As before, we will document every experiment we tried to increase performance (accuracy) and fitting. This time, we will only use a handful of 100k train_size experiments as well as a full dataset experiment"
      ]
    },
    {
      "cell_type": "markdown",
      "metadata": {
        "id": "jPY8asfNl9Qk"
      },
      "source": [
        "| TRAIN SIZE | EPOCHS |  N_LAYERS | EMBEDDING_DIM | HIDDEN_DIM | BIDIRECTIONAL | LEARNING_RATE | DROPOUT | CLIP VALUE | TIME PER EPOCH | FINAL TRAIN LOSS |ACCURACY | LEARNING CONCLUSION\r\n",
        "| --- | --- | --- | --- | --- | --- | --- | --- | --- | --- | --- | --- | --- |\r\n",
        "| 100k | 30 | 2 | 50 | 256 | TRUE | 1e-5 | 0.8 | 1 | 12s | 0.446 | **77%** | **OK Fit** |\r\n",
        "| 100k | 30 | 2 | 50 | 512 | TRUE | 1e-5 | 0.8 | 1 | 15s | 0.462 | **77%** | **Good Fit** |\r\n",
        "| 100k | 30 | 3 | 50 | 512 | TRUE | 1e-5 | 0.8 | 1 | 24s | 0.496 | **76%** | **Good Fit** |\r\n",
        "| 100k | 30 | 2 | 50 | 512 | TRUE | 1e-3 | 0.8 | 0.5 | 15s | 0.461 | **77%** | **Good Fit** |\r\n",
        "| 100k | 30 | 2 | 50 | 512 | TRUE | 1e-5 | 0.8 | 3 | 15s |  0.461 | **77%** | **Good Fit** |\r\n",
        "| 100k | 30 | 2 | 50 | 512 | TRUE | 1e-5 | 0.8 | 10 | 15s |  0.462 | **77%** | **Good Fit** |\r\n",
        "| 100k | 30 | 2 | 50 | 512 | TRUE | 1e-5 | 0.8 | 0.1 | 15s |  0.460 | **77%** | **Good Fit** |\r\n",
        "| 100k | 30 | 4 | 50 | 512 | TRUE | 1e-5 | 0.8 | 1 | 33s |  0.508 | **74%** | **Good Fit** |"
      ]
    },
    {
      "cell_type": "markdown",
      "metadata": {
        "id": "yfG4Kp16HSkj"
      },
      "source": [
        "Sadly but not entirely unexpectedly we don't see much of a difference using this technique. Not entirely unexpectedly, because our model is already fairing quite well in predicting sentiment. As we saw in the previous assignments we didn't get too far over the 75% benchmark in both of them. A thing that probably causes this behaviour, is the simple fact that we are not actually dealing with exploding gradients. Hence, we don't see a difference in performance. This can be seen by the diminishing performance as we complexify the problem, just as we saw in the previous section of experiments without the gradient clipping.\r\n",
        "\r\n",
        "So, we can safely assume that exploding gradients is not the problem in our case. Maybe it is vanishing gradients. A problem which can be solved with the skip connections technique."
      ]
    },
    {
      "cell_type": "markdown",
      "metadata": {
        "id": "GAQBSqlnNY7z"
      },
      "source": [
        "In any case we should test with the whole dataset."
      ]
    },
    {
      "cell_type": "markdown",
      "metadata": {
        "id": "K-skiwaxPt_y"
      },
      "source": [
        "## Conclusions and Comparison to the Previous Assignments"
      ]
    },
    {
      "cell_type": "markdown",
      "metadata": {
        "id": "iHFENKD-I8H-"
      },
      "source": [
        "The recurrent neural network structure is certainly more fit to predict sentiment than the simple feed forward structure, especially in the way we built it. The fact, that in our case, context is being \"remembered\" by the network in order to figure out whether a text is positive or negative plays a big role in our previous statement. Now as we have discussed in the lectures and forums, it seems like that 75-80% accuracy is a benchmark that will only be beaten by excessive hyperparameter tuning, given our specific implementation of preprocessing, and general neural network structure.\r\n",
        "\r\n",
        "Nevertheless, this assignment succeeds in creating a more fit neural network to predict twitter sentiments. In the previous assignment, we struggled to beat the 70% mark and only got to 74% as we made the network more complex and used better suited pre-trained embeddings.\r\n",
        "\r\n",
        "This time we managed to reach upwards of 79% accuracy! Same as the first assignment we did, with simple logistic regression. I certainly did not expect the regression model to be the best model to solve this problem, but then again, I onnly scratched the surface of what is deep neural networks."
      ]
    },
    {
      "cell_type": "markdown",
      "metadata": {
        "id": "pOH0Ck4zW9cU"
      },
      "source": [
        "More specifically, the results we have gathered in this assignment are expected. GRUs outperform LSTMs in effiency and speed but LSTMs perform better on big data and more complex models. It seems like context plays a big role in our problem. That's one other reason that LSTMs slightly outperform the GRU approach.\r\n",
        "\r\n",
        "We didn't get to see Gradient Clipping in action, probably because the problems it solves, namely exploding gradients, evidently, were not prevalent in our case. Sadly, we didn't get to experiment with other techniques like Stop Connections to combat the vanishing gradient problem if it existed, due to the contraints of time mostly.\r\n",
        "\r\n",
        "We can clearly see how the more complex a model gets in structure, implementation or ability to be customized, a.k.a amount of tunable hyperparameters, the more time it takes for the model to train. In the previous assignments we could have our models train for thousands of epochs, without waiting for too long, while now even 10 epochs can take upwards of 2-3 hours.\r\n",
        "That of course does not pose a problem, as the similar results in performance can be achieved with way less iterations."
      ]
    },
    {
      "cell_type": "markdown",
      "metadata": {
        "id": "Qn5PPQzBMdUN"
      },
      "source": [
        "## Citations\n",
        "\n",
        "These are the sources and literature I used in the development.\n",
        "\n",
        "1. [The Unreasonable Effectiveness of Recurrent Neural Networks](https://karpathy.github.io/2015/05/21/rnn-effectiveness/) bt Andrej Karpathy\n",
        "2. [Pytorch Sentiment Analysis](https://github.com/bentrevett/pytorch-sentiment-analysis) by Ben Trevett  \n",
        "    Specifically:\n",
        "    1. [Using TorchText with Your Own Datasets](https://github.com/bentrevett/pytorch-sentiment-analysis/blob/master/A%20-%20Using%20TorchText%20with%20Your%20Own%20Datasets.ipynb)\n",
        "    2. [Updated Sentiment Analysis](https://github.com/bentrevett/pytorch-sentiment-analysis/blob/master/2%20-%20Upgraded%20Sentiment%20Analysis.ipynb)\n",
        "\n",
        "3. [Gradient Clipping](https://stackoverflow.com/questions/54716377/how-to-do-gradient-clipping-in-pytorch)"
      ]
    }
  ]
}